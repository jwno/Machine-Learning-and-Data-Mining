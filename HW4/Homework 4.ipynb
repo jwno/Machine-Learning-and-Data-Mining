{
 "cells": [
  {
   "cell_type": "markdown",
   "metadata": {},
   "source": [
    "### No, Jae Won\n",
    "### 27037711"
   ]
  },
  {
   "cell_type": "code",
   "execution_count": 1,
   "metadata": {
    "collapsed": true
   },
   "outputs": [],
   "source": [
    "from __future__ import division\n",
    "import numpy as np\n",
    "import matplotlib.pyplot as plt\n",
    "import mltools as ml\n",
    "%matplotlib inline"
   ]
  },
  {
   "cell_type": "markdown",
   "metadata": {},
   "source": [
    "# Problem 1"
   ]
  },
  {
   "cell_type": "markdown",
   "metadata": {
    "collapsed": true
   },
   "source": [
    "### 1)"
   ]
  },
  {
   "cell_type": "markdown",
   "metadata": {},
   "source": [
    "All (a), (b), and (c) can be shattered because a single vertical line is able to discern for every combination. Especially for (c), even two to one combination can be divided pretty easily. But for (d), if it were to be put into negatives being (2, 2) and (8, 6) and positive being (4, 8) and (6, 4), then it cannot shatter it because it would have an error in drawing a decision boundary."
   ]
  },
  {
   "cell_type": "markdown",
   "metadata": {},
   "source": [
    "### 2)"
   ]
  },
  {
   "cell_type": "markdown",
   "metadata": {},
   "source": [
    "All (a), (b), and (c) can be shattered because it is still a vertical line. It is similar case to part (1) above."
   ]
  },
  {
   "cell_type": "markdown",
   "metadata": {},
   "source": [
    "### 3)"
   ]
  },
  {
   "cell_type": "markdown",
   "metadata": {},
   "source": [
    "(a) can be shattered, but rest of (b), (c), and (d) cannot be shattered. Imagining the boundry being a circle, (a) can be shattered easily. For (b), if (4, 8) is negative, then circle would enclose both (2, 2) and (4, 8), making decision boundry to be wrong. Similarly for both (c) and (d), if (2, 2), (4, 4), or (8, 6) were to be positive and (4, 8) being negative, it would enclose all the values, making it unable to shatter it."
   ]
  },
  {
   "cell_type": "markdown",
   "metadata": {},
   "source": [
    "# Problem 2"
   ]
  },
  {
   "cell_type": "markdown",
   "metadata": {},
   "source": [
    "### 1)"
   ]
  },
  {
   "cell_type": "markdown",
   "metadata": {},
   "source": [
    "H(x) = E[log 1/p(x)] = Sum(p(x)log 1/p(x))"
   ]
  },
  {
   "cell_type": "markdown",
   "metadata": {},
   "source": [
    "(4/10)log 1/(4/10) + (6/10)log 1/(6/10)"
   ]
  },
  {
   "cell_type": "markdown",
   "metadata": {},
   "source": [
    "#### = 0.569"
   ]
  },
  {
   "cell_type": "markdown",
   "metadata": {},
   "source": [
    "### 2)"
   ]
  },
  {
   "cell_type": "markdown",
   "metadata": {},
   "source": [
    "x2 would be good feature to split for root node of the decision tree because it has good divide for 0's and 1's when it comes to whether y is +1 or -1 because it's easy to divide it so that when y = +1 then x2 = 1 while y = -1 then x2 = 0. Only one out of ten value has inconsistency."
   ]
  },
  {
   "cell_type": "markdown",
   "metadata": {},
   "source": [
    "### 3)"
   ]
  },
  {
   "cell_type": "code",
   "execution_count": 2,
   "metadata": {},
   "outputs": [
    {
     "ename": "NameError",
     "evalue": "name 'x1' is not defined",
     "output_type": "error",
     "traceback": [
      "\u001b[1;31m---------------------------------------------------------------------------\u001b[0m",
      "\u001b[1;31mNameError\u001b[0m                                 Traceback (most recent call last)",
      "\u001b[1;32m<ipython-input-2-b19879d81a2d>\u001b[0m in \u001b[0;36m<module>\u001b[1;34m()\u001b[0m\n\u001b[1;32m----> 1\u001b[1;33m \u001b[1;32mif\u001b[0m \u001b[1;33m(\u001b[0m\u001b[0mx1\u001b[0m \u001b[1;33m==\u001b[0m \u001b[1;36m0\u001b[0m\u001b[1;33m)\u001b[0m\u001b[1;33m:\u001b[0m\u001b[1;33m\u001b[0m\u001b[0m\n\u001b[0m\u001b[0;32m      2\u001b[0m     \u001b[0my\u001b[0m \u001b[1;33m=\u001b[0m \u001b[1;33m-\u001b[0m\u001b[1;36m1\u001b[0m\u001b[1;33m\u001b[0m\u001b[0m\n\u001b[0;32m      3\u001b[0m \u001b[1;32melse\u001b[0m\u001b[1;33m:\u001b[0m\u001b[1;33m\u001b[0m\u001b[0m\n\u001b[0;32m      4\u001b[0m     \u001b[0my\u001b[0m \u001b[1;33m=\u001b[0m \u001b[1;36m1\u001b[0m\u001b[1;33m\u001b[0m\u001b[0m\n\u001b[0;32m      5\u001b[0m \u001b[1;33m\u001b[0m\u001b[0m\n",
      "\u001b[1;31mNameError\u001b[0m: name 'x1' is not defined"
     ]
    }
   ],
   "source": [
    "if (x1 == 0):\n",
    "    y = -1\n",
    "else:\n",
    "    y = 1\n",
    "    \n",
    "if (x2 == 0):\n",
    "    y = 1\n",
    "else:\n",
    "    y = 0\n",
    "    \n",
    "if (x3):\n",
    "    y = -1\n",
    "    \n",
    "if (x4 == 0):\n",
    "    y = 1\n",
    "else:\n",
    "    y = -1\n",
    "    \n",
    "if (x5):\n",
    "    y = -1"
   ]
  },
  {
   "cell_type": "markdown",
   "metadata": {},
   "source": [
    "# Problem 3"
   ]
  },
  {
   "cell_type": "markdown",
   "metadata": {},
   "source": [
    "### 1)"
   ]
  },
  {
   "cell_type": "code",
   "execution_count": 3,
   "metadata": {},
   "outputs": [
    {
     "name": "stdout",
     "output_type": "stream",
     "text": [
      "Feature 0\n",
      "Min: 193.5\n",
      "Max: 253.0\n",
      "Mean: 241.6011037\n",
      "Variance: 83.4991711498\n",
      "\n",
      "Feature 1\n",
      "Min: 152.5\n",
      "Max: 249.0\n",
      "Mean: 227.3765713\n",
      "Variance: 92.625593125\n",
      "\n",
      "Feature 2\n",
      "Min: 214.25\n",
      "Max: 252.5\n",
      "Mean: 241.5541505\n",
      "Variance: 35.2863398033\n",
      "\n",
      "Feature 3\n",
      "Min: 152.5\n",
      "Max: 252.5\n",
      "Mean: 232.82676815\n",
      "Variance: 97.6257317486\n",
      "\n",
      "Feature 4\n",
      "Min: 10.0\n",
      "Max: 31048.0\n",
      "Mean: 3089.923365\n",
      "Variance: 15651513.7564\n",
      "\n",
      "Feature 5\n",
      "Min: 0.0\n",
      "Max: 13630.0\n",
      "Mean: 928.25902\n",
      "Variance: 3081761.81695\n",
      "\n",
      "Feature 6\n",
      "Min: 0.0\n",
      "Max: 9238.0\n",
      "Mean: 138.09383\n",
      "Variance: 443951.746446\n",
      "\n",
      "Feature 7\n",
      "Min: 0.0\n",
      "Max: 125.17\n",
      "Mean: 3.2485793303\n",
      "Variance: 8.21948502491\n",
      "\n",
      "Feature 8\n",
      "Min: 0.87589\n",
      "Max: 19.167\n",
      "Mean: 6.49865290275\n",
      "Variance: 6.40504819136\n",
      "\n",
      "Feature 9\n",
      "Min: 0.0\n",
      "Max: 13.23\n",
      "Mean: 2.09713912048\n",
      "Variance: 4.36344047061\n",
      "\n",
      "Feature 10\n",
      "Min: 0.0\n",
      "Max: 66.761\n",
      "Mean: 4.21766040935\n",
      "Variance: 4.08637188423\n",
      "\n",
      "Feature 11\n",
      "Min: 0.0\n",
      "Max: 73.902\n",
      "Mean: 2.69171845215\n",
      "Variance: 2.19877847436\n",
      "\n",
      "Feature 12\n",
      "Min: 0.99049\n",
      "Max: 975.04\n",
      "Mean: 10.2715904759\n",
      "Variance: 404.646245041\n",
      "\n",
      "Feature 13\n",
      "Min: -999.9\n",
      "Max: 797.2\n",
      "Mean: 5.7814805\n",
      "Variance: 3406.52055098\n",
      "\n"
     ]
    }
   ],
   "source": [
    "X = np.genfromtxt('data/X_train.txt', delimiter=None)\n",
    "Y = np.genfromtxt('data/Y_train.txt', delimiter=None)\n",
    "X,Y = ml.shuffleData(X,Y)\n",
    "\n",
    "for i in range(X.shape[1]):\n",
    "    print(\"Feature\", i)\n",
    "    print(\"Min:\", np.min(X[:,i]))\n",
    "    print(\"Max:\", np.max(X[:,i]))\n",
    "    print(\"Mean:\", np.mean(X[:,i]))\n",
    "    print(\"Variance:\", np.var(X[:,i]))\n",
    "    print()"
   ]
  },
  {
   "cell_type": "markdown",
   "metadata": {},
   "source": [
    "### 2)"
   ]
  },
  {
   "cell_type": "code",
   "execution_count": 4,
   "metadata": {},
   "outputs": [
    {
     "name": "stdout",
     "output_type": "stream",
     "text": [
      "Train Error Rates 0.0026\n",
      "Validation Error Rates 0.4116\n"
     ]
    }
   ],
   "source": [
    "Xtr,Xva,Ytr,Yva = ml.splitData(X,Y)\n",
    "Xtrain, Ytrain = Xtr[:5000], Ytr[:5000]\n",
    "Xvalid, Yvalid = Xva[:5000], Yva[:5000]\n",
    "\n",
    "learner = ml.dtree.treeClassify(Xtrain, Ytrain, maxDepth=50)\n",
    "print(\"Train Error Rates\", learner.err(Xtrain, Ytrain))\n",
    "print(\"Validation Error Rates\", learner.err(Xvalid, Yvalid))"
   ]
  },
  {
   "cell_type": "markdown",
   "metadata": {
    "collapsed": true
   },
   "source": [
    "### 3)"
   ]
  },
  {
   "cell_type": "code",
   "execution_count": 5,
   "metadata": {},
   "outputs": [
    {
     "data": {
      "image/png": "[encoded data removed]",
      "text/plain": [
       "<matplotlib.figure.Figure at 0x23833b12400>"
      ]
     },
     "metadata": {},
     "output_type": "display_data"
    }
   ],
   "source": [
    "fig, ax = plt.subplots(1, 1, figsize=(8,6))\n",
    "\n",
    "K = [0, 1, 2, 3, 4, 5, 6, 7, 8, 9, 10, 11, 12, 13, 14, 15]\n",
    "errTrain = np.zeros(len(K))\n",
    "errValid = np.zeros(errTrain.shape[0])\n",
    "\n",
    "for i in K:\n",
    "    learner = ml.dtree.treeClassify(Xtrain, Ytrain, maxDepth=i)\n",
    "    errTrain[i] = learner.err(Xtrain, Ytrain)\n",
    "    errValid[i] = learner.err(Xvalid, Yvalid)\n",
    "    \n",
    "ax.semilogy(K, errTrain, 'r-', lw=3, label='Training')\n",
    "ax.semilogy(K, errValid, 'g-', lw=3, label='Validation')\n",
    "\n",
    "ax.legend()\n",
    "\n",
    "plt.show()"
   ]
  },
  {
   "cell_type": "markdown",
   "metadata": {},
   "source": [
    "The higher maxDepth have higher complexity as Training data will near 0 error rates. The best choice for maxDepth would be 5-7 as it has pretty good distance between Training and Validation, then after 7 the difference becomes wider."
   ]
  },
  {
   "cell_type": "markdown",
   "metadata": {},
   "source": [
    "### 4)"
   ]
  },
  {
   "cell_type": "code",
   "execution_count": 10,
   "metadata": {},
   "outputs": [
    {
     "name": "stdout",
     "output_type": "stream",
     "text": [
      "[4, 8, 16, 32, 64, 128, 256, 512, 1024, 2048, 4096]\n"
     ]
    },
    {
     "data": {
      "image/png": "[encoded data removed]",
      "text/plain": [
       "<matplotlib.figure.Figure at 0x23834058240>"
      ]
     },
     "metadata": {},
     "output_type": "display_data"
    }
   ],
   "source": [
    "K = [2, 2, 2, 2, 2, 2, 2, 2, 2, 2, 2]\n",
    "for i in range(2,13):\n",
    "    K[i-2] = K[i-2]**i\n",
    "print(K)\n",
    "\n",
    "fig, ax = plt.subplots(1, 1, figsize=(8,6))\n",
    "errTrain = np.zeros(len(K))\n",
    "errValid = np.zeros(errTrain.shape[0])\n",
    "for i,k in enumerate(K):\n",
    "    learner = ml.dtree.treeClassify(Xtrain, Ytrain, maxDepth=50, minParent = k)\n",
    "    errTrain[i] = learner.err(Xtrain, Ytrain)\n",
    "    errValid[i] = learner.err(Xvalid, Yvalid)\n",
    "\n",
    "        \n",
    "ax.semilogx(K, errTrain, 'r-', lw=3, label='Training')\n",
    "ax.semilogx(K, errValid, 'g-', lw=3, label='Validation')\n",
    "\n",
    "ax.legend()\n",
    "\n",
    "plt.show()"
   ]
  },
  {
   "cell_type": "markdown",
   "metadata": {},
   "source": [
    "For minParent, number around 512 looks to be best decision tree model."
   ]
  },
  {
   "cell_type": "markdown",
   "metadata": {},
   "source": [
    "### 5)"
   ]
  },
  {
   "cell_type": "code",
   "execution_count": 24,
   "metadata": {},
   "outputs": [
    {
     "data": {
      "image/png": "[encoded data removed]",
      "text/plain": [
       "<matplotlib.figure.Figure at 0x23834129908>"
      ]
     },
     "metadata": {},
     "output_type": "display_data"
    },
    {
     "name": "stdout",
     "output_type": "stream",
     "text": [
      "Training AUC Score: 0.687438789907\n"
     ]
    },
    {
     "data": {
      "image/png": "[encoded data removed]",
      "text/plain": [
       "<matplotlib.figure.Figure at 0x238345fe710>"
      ]
     },
     "metadata": {},
     "output_type": "display_data"
    },
    {
     "name": "stdout",
     "output_type": "stream",
     "text": [
      "Validation AUC Score: 0.616463668889\n"
     ]
    }
   ],
   "source": [
    "learner = ml.dtree.treeClassify(Xtrain, Ytrain, maxDepth=7, minParent = 512)\n",
    "\n",
    "fpr,tpr,tnr = learner.roc(Xtrain, Ytrain)\n",
    "plt.plot(fpr,tpr)\n",
    "plt.show()\n",
    "print(\"Training AUC Score:\", learner.auc(Xtrain, Ytrain))\n",
    "\n",
    "fpr,tpr,tnr = learner.roc(Xvalid, Yvalid)\n",
    "plt.plot(fpr,tpr)\n",
    "plt.show()\n",
    "print(\"Validation AUC Score:\", learner.auc(Xvalid, Yvalid))"
   ]
  },
  {
   "cell_type": "markdown",
   "metadata": {},
   "source": [
    "### 6)"
   ]
  },
  {
   "cell_type": "code",
   "execution_count": 26,
   "metadata": {},
   "outputs": [],
   "source": [
    "learner = ml.dtree.treeClassify(X, Y, maxDepth=7, minParent=512)\n",
    "Xte = np.genfromtxt('data/X_test.txt', delimiter=None)\n",
    "Yte = np.vstack((np.arange(Xte.shape[0]), learner.predictSoft(Xte)[:,1])).T\n",
    "# Output a file with two columns, a row ID and a confidence in class 1:\n",
    "np.savetxt('Y_submit.txt',Yte,'%d, %.2f',header='ID,Prob1',comments='',delimiter=',')"
   ]
  },
  {
   "cell_type": "markdown",
   "metadata": {},
   "source": [
    "Team Name: Jay No\n",
    "\n",
    "AUC Score: 0.67699"
   ]
  },
  {
   "cell_type": "markdown",
   "metadata": {},
   "source": [
    "# Problem 4"
   ]
  },
  {
   "cell_type": "markdown",
   "metadata": {
    "collapsed": true
   },
   "source": [
    "No collaboration has been made."
   ]
  },
  {
   "cell_type": "code",
   "execution_count": null,
   "metadata": {
    "collapsed": true
   },
   "outputs": [],
   "source": []
  }
 ],
 "metadata": {
  "kernelspec": {
   "display_name": "Python 3",
   "language": "python",
   "name": "python3"
  },
  "language_info": {
   "codemirror_mode": {
    "name": "ipython",
    "version": 3
   },
   "file_extension": ".py",
   "mimetype": "text/x-python",
   "name": "python",
   "nbconvert_exporter": "python",
   "pygments_lexer": "ipython3",
   "version": "3.6.3"
  }
 },
 "nbformat": 4,
 "nbformat_minor": 2
}
